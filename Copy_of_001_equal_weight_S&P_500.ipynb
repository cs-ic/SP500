{
  "nbformat": 4,
  "nbformat_minor": 0,
  "metadata": {
    "colab": {
      "name": "Copy of 001_equal_weight_S&P_500.ipynb",
      "provenance": [],
      "collapsed_sections": []
    },
    "kernelspec": {
      "display_name": "Python 3",
      "language": "python",
      "name": "python3"
    },
    "language_info": {
      "codemirror_mode": {
        "name": "ipython",
        "version": 3
      },
      "file_extension": ".py",
      "mimetype": "text/x-python",
      "name": "python",
      "nbconvert_exporter": "python",
      "pygments_lexer": "ipython3",
      "version": "3.8.2"
    }
  },
  "cells": [
    {
      "cell_type": "markdown",
      "metadata": {
        "id": "QIq40OmCJmIt"
      },
      "source": [
        "# Equal-Weight S&P 500 Index Fund\n",
        "\n",
        "## Introduction & Library Imports\n",
        "\n",
        "The S&P 500 is the world's most popular stock market index. The largest fund that is benchmarked to this index is the SPDR® S&P 500® ETF Trust. It has more than US$250 billion of assets under management.\n",
        "\n",
        "The goal of this section of the course is to create a Python script that will accept the value of your portfolio and tell you how many shares of each S&P 500 constituent you should purchase to get an equal-weight version of the index fund.\n",
        "\n",
        "## Library Imports\n",
        "\n",
        "The first thing we need to do is import the open-source software libraries that we'll be using in this tutorial."
      ]
    },
    {
      "cell_type": "code",
      "metadata": {
        "id": "YDgaJFr0JmI4",
        "colab": {
          "base_uri": "https://localhost:8080/"
        },
        "outputId": "2e49df25-9f24-4c4f-b190-a8a3fa4b84f1"
      },
      "source": [
        "!pip install xlsxwriter"
      ],
      "execution_count": 1,
      "outputs": [
        {
          "output_type": "stream",
          "text": [
            "Requirement already satisfied: xlsxwriter in /usr/local/lib/python3.6/dist-packages (1.3.7)\n"
          ],
          "name": "stdout"
        }
      ]
    },
    {
      "cell_type": "code",
      "metadata": {
        "id": "h2ewNmNTJwdZ"
      },
      "source": [
        "import numpy as np\n",
        "import pandas as pd\n",
        "import requests\n",
        "import xlsxwriter\n",
        "import math"
      ],
      "execution_count": 2,
      "outputs": []
    },
    {
      "cell_type": "markdown",
      "metadata": {
        "id": "E5W1TxwpJmI5"
      },
      "source": [
        "## Importing Our List of Stocks\n",
        "\n",
        "The next thing we need to do is import the constituents of the S&P 500.\n",
        "\n",
        "These constituents change over time, so in an ideal world you would connect directly to the index provider (Standard & Poor's) and pull their real-time constituents on a regular basis.\n",
        "\n",
        "Paying for access to the index provider's API is outside of the scope of this course. \n",
        "\n",
        "There's a static version of the S&P 500 constituents available here. [Click this link to download them now](https://drive.google.com/file/d/1ZJSpbY69DVckVZlO9cC6KkgfSufybcHN/view?usp=sharing). Move this file into the `starter-files` folder so it can be accessed by other files in that directory.\n",
        "\n",
        "Now it's time to import these stocks to our Jupyter Notebook file."
      ]
    },
    {
      "cell_type": "code",
      "metadata": {
        "id": "ErKj8G-GJmI7",
        "colab": {
          "base_uri": "https://localhost:8080/"
        },
        "outputId": "e65033df-8ad0-46f0-d61b-6dc885946354"
      },
      "source": [
        "stocks = pd.read_csv(\"sp_500_stocks.csv\")\n",
        "type(stocks)\n"
      ],
      "execution_count": 3,
      "outputs": [
        {
          "output_type": "execute_result",
          "data": {
            "text/plain": [
              "pandas.core.frame.DataFrame"
            ]
          },
          "metadata": {
            "tags": []
          },
          "execution_count": 3
        }
      ]
    },
    {
      "cell_type": "markdown",
      "metadata": {
        "id": "UHglJUbRJmI9"
      },
      "source": [
        "## Acquiring an API Token\n",
        "\n",
        "Now it's time to import our IEX Cloud API token. This is the data provider that we will be using throughout this course.\n",
        "\n",
        "API tokens (and other sensitive information) should be stored in a `secrets.py` file that doesn't get pushed to your local Git repository. We'll be using a sandbox API token in this course, which means that the data we'll use is randomly-generated and (more importantly) has no cost associated with it.\n",
        "\n",
        "[Click here](http://nickmccullum.com/algorithmic-trading-python/secrets.py) to download your `secrets.py` file. Move the file into the same directory as this Jupyter Notebook before proceeding."
      ]
    },
    {
      "cell_type": "code",
      "metadata": {
        "id": "tnDLGff8JmI-",
        "colab": {
          "base_uri": "https://localhost:8080/"
        },
        "outputId": "e8afa502-9cb2-4042-de0a-20c124129407"
      },
      "source": [
        "IEX_CLOUD_API_TOKEN = open(\"secrets.txt\").readline().strip()\n",
        "type(IEX_CLOUD_API_TOKEN)"
      ],
      "execution_count": 4,
      "outputs": [
        {
          "output_type": "execute_result",
          "data": {
            "text/plain": [
              "str"
            ]
          },
          "metadata": {
            "tags": []
          },
          "execution_count": 4
        }
      ]
    },
    {
      "cell_type": "markdown",
      "metadata": {
        "id": "eZxhybLnJmJA"
      },
      "source": [
        "## Making Our First API Call\n",
        "\n",
        "Now it's time to structure our API calls to IEX cloud. \n",
        "\n",
        "We need the following information from the API:\n",
        "\n",
        "* Market capitalization for each stock\n",
        "* Price of each stock\n",
        "\n"
      ]
    },
    {
      "cell_type": "code",
      "metadata": {
        "id": "hIykql0XJmJA"
      },
      "source": [
        "symbol = \"AAPL\"\n",
        "api_url =  f'https://sandbox.iexapis.com/stable/stock/{symbol}/quote/?token={IEX_CLOUD_API_TOKEN}'\n",
        "data = requests.get(api_url).json()"
      ],
      "execution_count": 5,
      "outputs": []
    },
    {
      "cell_type": "markdown",
      "metadata": {
        "id": "quKbXSmmJmJA"
      },
      "source": [
        "## Parsing Our API Call\n",
        "\n",
        "The API call that we executed in the last code block contains all of the information required to build our equal-weight S&P 500 strategy. \n",
        "\n",
        "With that said, the data isn't in a proper format yet. We need to parse it first."
      ]
    },
    {
      "cell_type": "code",
      "metadata": {
        "id": "uneu8vSjJmJB",
        "colab": {
          "base_uri": "https://localhost:8080/"
        },
        "outputId": "22394ade-79b7-4544-d216-2891930a5ca4"
      },
      "source": [
        "price = data['latestPrice']\n",
        "market_cap = data['marketCap']\n",
        "price,market_cap"
      ],
      "execution_count": 6,
      "outputs": [
        {
          "output_type": "execute_result",
          "data": {
            "text/plain": [
              "(135.573, 2288127960075)"
            ]
          },
          "metadata": {
            "tags": []
          },
          "execution_count": 6
        }
      ]
    },
    {
      "cell_type": "markdown",
      "metadata": {
        "id": "Eu-Wd-JnJmJB"
      },
      "source": [
        "## Adding Our Stocks Data to a Pandas DataFrame\n",
        "\n",
        "The next thing we need to do is add our stock's price and market capitalization to a pandas DataFrame. Think of a DataFrame like the Python version of a spreadsheet. It stores tabular data."
      ]
    },
    {
      "cell_type": "code",
      "metadata": {
        "id": "dNI8ZJMPJmJD",
        "colab": {
          "base_uri": "https://localhost:8080/",
          "height": 49
        },
        "outputId": "b0919472-1acf-4cb1-fe43-050a715039cf"
      },
      "source": [
        "columns = ['Ticker', 'Stock Price', \"Market Captialization\", \"Shares to Buy\"]\n",
        "final_dataframe = pd.DataFrame(columns = columns)\n",
        "final_dataframe"
      ],
      "execution_count": 7,
      "outputs": [
        {
          "output_type": "execute_result",
          "data": {
            "text/html": [
              "<div>\n",
              "<style scoped>\n",
              "    .dataframe tbody tr th:only-of-type {\n",
              "        vertical-align: middle;\n",
              "    }\n",
              "\n",
              "    .dataframe tbody tr th {\n",
              "        vertical-align: top;\n",
              "    }\n",
              "\n",
              "    .dataframe thead th {\n",
              "        text-align: right;\n",
              "    }\n",
              "</style>\n",
              "<table border=\"1\" class=\"dataframe\">\n",
              "  <thead>\n",
              "    <tr style=\"text-align: right;\">\n",
              "      <th></th>\n",
              "      <th>Ticker</th>\n",
              "      <th>Stock Price</th>\n",
              "      <th>Market Captialization</th>\n",
              "      <th>Shares to Buy</th>\n",
              "    </tr>\n",
              "  </thead>\n",
              "  <tbody>\n",
              "  </tbody>\n",
              "</table>\n",
              "</div>"
            ],
            "text/plain": [
              "Empty DataFrame\n",
              "Columns: [Ticker, Stock Price, Market Captialization, Shares to Buy]\n",
              "Index: []"
            ]
          },
          "metadata": {
            "tags": []
          },
          "execution_count": 7
        }
      ]
    },
    {
      "cell_type": "code",
      "metadata": {
        "id": "RVuI7cSSJmJE",
        "colab": {
          "base_uri": "https://localhost:8080/",
          "height": 81
        },
        "outputId": "8655fa97-ea60-45df-841b-5a95f1709968"
      },
      "source": [
        "final_dataframe.append(\n",
        "    pd.Series([\n",
        "         symbol,\n",
        "         price,\n",
        "         market_cap,\n",
        "         'N/A'      \n",
        "    ],index = columns),\n",
        "    ignore_index = True\n",
        ")"
      ],
      "execution_count": 8,
      "outputs": [
        {
          "output_type": "execute_result",
          "data": {
            "text/html": [
              "<div>\n",
              "<style scoped>\n",
              "    .dataframe tbody tr th:only-of-type {\n",
              "        vertical-align: middle;\n",
              "    }\n",
              "\n",
              "    .dataframe tbody tr th {\n",
              "        vertical-align: top;\n",
              "    }\n",
              "\n",
              "    .dataframe thead th {\n",
              "        text-align: right;\n",
              "    }\n",
              "</style>\n",
              "<table border=\"1\" class=\"dataframe\">\n",
              "  <thead>\n",
              "    <tr style=\"text-align: right;\">\n",
              "      <th></th>\n",
              "      <th>Ticker</th>\n",
              "      <th>Stock Price</th>\n",
              "      <th>Market Captialization</th>\n",
              "      <th>Shares to Buy</th>\n",
              "    </tr>\n",
              "  </thead>\n",
              "  <tbody>\n",
              "    <tr>\n",
              "      <th>0</th>\n",
              "      <td>AAPL</td>\n",
              "      <td>135.573</td>\n",
              "      <td>2288127960075</td>\n",
              "      <td>N/A</td>\n",
              "    </tr>\n",
              "  </tbody>\n",
              "</table>\n",
              "</div>"
            ],
            "text/plain": [
              "  Ticker  Stock Price Market Captialization Shares to Buy\n",
              "0   AAPL      135.573         2288127960075           N/A"
            ]
          },
          "metadata": {
            "tags": []
          },
          "execution_count": 8
        }
      ]
    },
    {
      "cell_type": "markdown",
      "metadata": {
        "id": "OFR0cKYAJmJE"
      },
      "source": [
        "## Looping Through The Tickers in Our List of Stocks\n",
        "\n",
        "Using the same logic that we outlined above, we can pull data for all S&P 500 stocks and store their data in the DataFrame using a `for` loop."
      ]
    },
    {
      "cell_type": "code",
      "metadata": {
        "colab": {
          "base_uri": "https://localhost:8080/",
          "height": 424
        },
        "id": "_4-m8fb9JmJF",
        "outputId": "cf7120e1-12dd-4cc8-8d0c-1ad062f15e95"
      },
      "source": [
        "final_dataframe = pd.DataFrame(columns = columns)\n",
        "for stock in stocks['Ticker']:\n",
        "  api_url =  f'https://sandbox.iexapis.com/stable/stock/{stock}/quote/?token={IEX_CLOUD_API_TOKEN}'\n",
        "  data = requests.get(api_url).json()\n",
        "  final_dataframe = final_dataframe.append(\n",
        "      pd.Series(\n",
        "          [stock,\n",
        "          data['latestPrice'],\n",
        "          data['marketCap'],\n",
        "          'N/A'],\n",
        "          index = columns), \n",
        "      ignore_index = True)\n",
        "  \n",
        "\n",
        "final_dataframe\n",
        "\n"
      ],
      "execution_count": 9,
      "outputs": [
        {
          "output_type": "execute_result",
          "data": {
            "text/html": [
              "<div>\n",
              "<style scoped>\n",
              "    .dataframe tbody tr th:only-of-type {\n",
              "        vertical-align: middle;\n",
              "    }\n",
              "\n",
              "    .dataframe tbody tr th {\n",
              "        vertical-align: top;\n",
              "    }\n",
              "\n",
              "    .dataframe thead th {\n",
              "        text-align: right;\n",
              "    }\n",
              "</style>\n",
              "<table border=\"1\" class=\"dataframe\">\n",
              "  <thead>\n",
              "    <tr style=\"text-align: right;\">\n",
              "      <th></th>\n",
              "      <th>Ticker</th>\n",
              "      <th>Stock Price</th>\n",
              "      <th>Market Captialization</th>\n",
              "      <th>Shares to Buy</th>\n",
              "    </tr>\n",
              "  </thead>\n",
              "  <tbody>\n",
              "    <tr>\n",
              "      <th>0</th>\n",
              "      <td>A</td>\n",
              "      <td>124</td>\n",
              "      <td>37620446637</td>\n",
              "      <td>N/A</td>\n",
              "    </tr>\n",
              "    <tr>\n",
              "      <th>1</th>\n",
              "      <td>AAL</td>\n",
              "      <td>16.147</td>\n",
              "      <td>9416890504</td>\n",
              "      <td>N/A</td>\n",
              "    </tr>\n",
              "    <tr>\n",
              "      <th>2</th>\n",
              "      <td>AAP</td>\n",
              "      <td>163.77</td>\n",
              "      <td>11217892881</td>\n",
              "      <td>N/A</td>\n",
              "    </tr>\n",
              "    <tr>\n",
              "      <th>3</th>\n",
              "      <td>AAPL</td>\n",
              "      <td>135.49</td>\n",
              "      <td>2306684590312</td>\n",
              "      <td>N/A</td>\n",
              "    </tr>\n",
              "    <tr>\n",
              "      <th>4</th>\n",
              "      <td>ABBV</td>\n",
              "      <td>108.53</td>\n",
              "      <td>193845874557</td>\n",
              "      <td>N/A</td>\n",
              "    </tr>\n",
              "    <tr>\n",
              "      <th>...</th>\n",
              "      <td>...</td>\n",
              "      <td>...</td>\n",
              "      <td>...</td>\n",
              "      <td>...</td>\n",
              "    </tr>\n",
              "    <tr>\n",
              "      <th>500</th>\n",
              "      <td>YUM</td>\n",
              "      <td>108.05</td>\n",
              "      <td>33079992669</td>\n",
              "      <td>N/A</td>\n",
              "    </tr>\n",
              "    <tr>\n",
              "      <th>501</th>\n",
              "      <td>ZBH</td>\n",
              "      <td>161.42</td>\n",
              "      <td>33071521442</td>\n",
              "      <td>N/A</td>\n",
              "    </tr>\n",
              "    <tr>\n",
              "      <th>502</th>\n",
              "      <td>ZBRA</td>\n",
              "      <td>396.26</td>\n",
              "      <td>21798773882</td>\n",
              "      <td>N/A</td>\n",
              "    </tr>\n",
              "    <tr>\n",
              "      <th>503</th>\n",
              "      <td>ZION</td>\n",
              "      <td>48.45</td>\n",
              "      <td>8019578611</td>\n",
              "      <td>N/A</td>\n",
              "    </tr>\n",
              "    <tr>\n",
              "      <th>504</th>\n",
              "      <td>ZTS</td>\n",
              "      <td>169.6</td>\n",
              "      <td>80524140301</td>\n",
              "      <td>N/A</td>\n",
              "    </tr>\n",
              "  </tbody>\n",
              "</table>\n",
              "<p>505 rows × 4 columns</p>\n",
              "</div>"
            ],
            "text/plain": [
              "    Ticker Stock Price Market Captialization Shares to Buy\n",
              "0        A         124           37620446637           N/A\n",
              "1      AAL      16.147            9416890504           N/A\n",
              "2      AAP      163.77           11217892881           N/A\n",
              "3     AAPL      135.49         2306684590312           N/A\n",
              "4     ABBV      108.53          193845874557           N/A\n",
              "..     ...         ...                   ...           ...\n",
              "500    YUM      108.05           33079992669           N/A\n",
              "501    ZBH      161.42           33071521442           N/A\n",
              "502   ZBRA      396.26           21798773882           N/A\n",
              "503   ZION       48.45            8019578611           N/A\n",
              "504    ZTS       169.6           80524140301           N/A\n",
              "\n",
              "[505 rows x 4 columns]"
            ]
          },
          "metadata": {
            "tags": []
          },
          "execution_count": 9
        }
      ]
    },
    {
      "cell_type": "markdown",
      "metadata": {
        "id": "JmQ4P210JmJG"
      },
      "source": [
        "## Using Batch API Calls to Improve Performance\n",
        "\n",
        "Batch API calls are one of the easiest ways to improve the performance of your code.\n",
        "\n",
        "This is because HTTP requests are typically one of the slowest components of a script.\n",
        "\n",
        "Also, API providers will often give you discounted rates for using batch API calls since they are easier for the API provider to respond to.\n",
        "\n",
        "IEX Cloud limits their batch API calls to 100 tickers per request. Still, this reduces the number of API calls we'll make in this section from 500 to 5 - huge improvement! In this section, we'll split our list of stocks into groups of 100 and then make a batch API call for each group."
      ]
    },
    {
      "cell_type": "code",
      "metadata": {
        "id": "B-Cwa7CrJmJH",
        "colab": {
          "base_uri": "https://localhost:8080/",
          "height": 424
        },
        "outputId": "fcf8a464-f61c-441b-8a72-e802201c5010"
      },
      "source": [
        "symbol_groups = [stocks['Ticker'][x:x+100] for x in range(0, len(stocks['Ticker']), 100)]\n",
        "symbol_strings = []\n",
        "for i in range(len(symbol_groups)):\n",
        "  symbol_strings.append(\",\".join(symbol_groups[i]))\n",
        "\n",
        "final_dataframe = pd.DataFrame(columns = columns)\n",
        "\n",
        "for symbol_string in symbol_strings:\n",
        "  batch_api_call_url = f\"https://sandbox.iexapis.com/stable/stock/market/batch?symbols={symbol_string}&types=quote&token={IEX_CLOUD_API_TOKEN}\"\n",
        "  data = requests.get(batch_api_call_url).json()\n",
        "  for symbol in symbol_string.split(\",\"):\n",
        "    final_dataframe = final_dataframe.append(\n",
        "        pd.Series(\n",
        "            [\n",
        "            symbol,\n",
        "            data[symbol]['quote']['latestPrice'],\n",
        "            data[symbol]['quote']['marketCap'],\n",
        "            \"N/A\"],\n",
        "            index = columns), \n",
        "      ignore_index = True)\n",
        "    \n",
        "\n",
        "final_dataframe"
      ],
      "execution_count": 10,
      "outputs": [
        {
          "output_type": "execute_result",
          "data": {
            "text/html": [
              "<div>\n",
              "<style scoped>\n",
              "    .dataframe tbody tr th:only-of-type {\n",
              "        vertical-align: middle;\n",
              "    }\n",
              "\n",
              "    .dataframe tbody tr th {\n",
              "        vertical-align: top;\n",
              "    }\n",
              "\n",
              "    .dataframe thead th {\n",
              "        text-align: right;\n",
              "    }\n",
              "</style>\n",
              "<table border=\"1\" class=\"dataframe\">\n",
              "  <thead>\n",
              "    <tr style=\"text-align: right;\">\n",
              "      <th></th>\n",
              "      <th>Ticker</th>\n",
              "      <th>Stock Price</th>\n",
              "      <th>Market Captialization</th>\n",
              "      <th>Shares to Buy</th>\n",
              "    </tr>\n",
              "  </thead>\n",
              "  <tbody>\n",
              "    <tr>\n",
              "      <th>0</th>\n",
              "      <td>A</td>\n",
              "      <td>122.340</td>\n",
              "      <td>39176871951</td>\n",
              "      <td>N/A</td>\n",
              "    </tr>\n",
              "    <tr>\n",
              "      <th>1</th>\n",
              "      <td>AAL</td>\n",
              "      <td>16.192</td>\n",
              "      <td>9452258757</td>\n",
              "      <td>N/A</td>\n",
              "    </tr>\n",
              "    <tr>\n",
              "      <th>2</th>\n",
              "      <td>AAP</td>\n",
              "      <td>168.224</td>\n",
              "      <td>11485368967</td>\n",
              "      <td>N/A</td>\n",
              "    </tr>\n",
              "    <tr>\n",
              "      <th>3</th>\n",
              "      <td>AAPL</td>\n",
              "      <td>133.300</td>\n",
              "      <td>2298568092209</td>\n",
              "      <td>N/A</td>\n",
              "    </tr>\n",
              "    <tr>\n",
              "      <th>4</th>\n",
              "      <td>ABBV</td>\n",
              "      <td>107.490</td>\n",
              "      <td>193376650653</td>\n",
              "      <td>N/A</td>\n",
              "    </tr>\n",
              "    <tr>\n",
              "      <th>...</th>\n",
              "      <td>...</td>\n",
              "      <td>...</td>\n",
              "      <td>...</td>\n",
              "      <td>...</td>\n",
              "    </tr>\n",
              "    <tr>\n",
              "      <th>500</th>\n",
              "      <td>YUM</td>\n",
              "      <td>109.210</td>\n",
              "      <td>32539013130</td>\n",
              "      <td>N/A</td>\n",
              "    </tr>\n",
              "    <tr>\n",
              "      <th>501</th>\n",
              "      <td>ZBH</td>\n",
              "      <td>159.370</td>\n",
              "      <td>34412353068</td>\n",
              "      <td>N/A</td>\n",
              "    </tr>\n",
              "    <tr>\n",
              "      <th>502</th>\n",
              "      <td>ZBRA</td>\n",
              "      <td>400.620</td>\n",
              "      <td>21588561033</td>\n",
              "      <td>N/A</td>\n",
              "    </tr>\n",
              "    <tr>\n",
              "      <th>503</th>\n",
              "      <td>ZION</td>\n",
              "      <td>49.980</td>\n",
              "      <td>8122614654</td>\n",
              "      <td>N/A</td>\n",
              "    </tr>\n",
              "    <tr>\n",
              "      <th>504</th>\n",
              "      <td>ZTS</td>\n",
              "      <td>173.600</td>\n",
              "      <td>82575676517</td>\n",
              "      <td>N/A</td>\n",
              "    </tr>\n",
              "  </tbody>\n",
              "</table>\n",
              "<p>505 rows × 4 columns</p>\n",
              "</div>"
            ],
            "text/plain": [
              "    Ticker  Stock Price Market Captialization Shares to Buy\n",
              "0        A      122.340           39176871951           N/A\n",
              "1      AAL       16.192            9452258757           N/A\n",
              "2      AAP      168.224           11485368967           N/A\n",
              "3     AAPL      133.300         2298568092209           N/A\n",
              "4     ABBV      107.490          193376650653           N/A\n",
              "..     ...          ...                   ...           ...\n",
              "500    YUM      109.210           32539013130           N/A\n",
              "501    ZBH      159.370           34412353068           N/A\n",
              "502   ZBRA      400.620           21588561033           N/A\n",
              "503   ZION       49.980            8122614654           N/A\n",
              "504    ZTS      173.600           82575676517           N/A\n",
              "\n",
              "[505 rows x 4 columns]"
            ]
          },
          "metadata": {
            "tags": []
          },
          "execution_count": 10
        }
      ]
    },
    {
      "cell_type": "markdown",
      "metadata": {
        "id": "CCwA4-1uJmJH"
      },
      "source": [
        "## Calculating the Number of Shares to Buy\n",
        "\n",
        "As you can see in the DataFrame above, we stil haven't calculated the number of shares of each stock to buy.\n",
        "\n",
        "We'll do that next."
      ]
    },
    {
      "cell_type": "code",
      "metadata": {
        "id": "T3eJgK3xJmJI",
        "colab": {
          "base_uri": "https://localhost:8080/"
        },
        "outputId": "41d88530-ba38-40d9-a22c-efe6954743f0"
      },
      "source": [
        "try :\n",
        "  portfolio_size = float(input(\"Enter Portfolio Size : \"))\n",
        "except ValueError:\n",
        "  print(\"Invalid Input\")\n",
        "  portfolio_size = input(\"Enter Portfolio Size : \")\n",
        "\n",
        "position_size = portfolio_size / len(final_dataframe.index)\n",
        "position_size"
      ],
      "execution_count": 11,
      "outputs": [
        {
          "output_type": "stream",
          "text": [
            "Enter Portfolio Size : 1000000\n"
          ],
          "name": "stdout"
        },
        {
          "output_type": "execute_result",
          "data": {
            "text/plain": [
              "1980.1980198019803"
            ]
          },
          "metadata": {
            "tags": []
          },
          "execution_count": 11
        }
      ]
    },
    {
      "cell_type": "code",
      "metadata": {
        "id": "-bbZU52dJmJI"
      },
      "source": [
        "total_cost = 0\n",
        "for i in range(len(final_dataframe.index)):\n",
        "  final_dataframe.loc[i ,\"Shares to Buy\"] = math.floor(position_size/final_dataframe.loc[i ,\"Stock Price\"])\n",
        "  total_cost += final_dataframe.loc[i, \"Stock Price\"]*final_dataframe.loc[i ,\"Shares to Buy\"]\n"
      ],
      "execution_count": 12,
      "outputs": []
    },
    {
      "cell_type": "markdown",
      "metadata": {
        "id": "NzVdH-_iJmJI"
      },
      "source": [
        "## Formatting Our Excel Output\n",
        "\n",
        "We will be using the XlsxWriter library for Python to create nicely-formatted Excel files.\n",
        "\n",
        "XlsxWriter is an excellent package and offers tons of customization. However, the tradeoff for this is that the library can seem very complicated to new users. Accordingly, this section will be fairly long because I want to do a good job of explaining how XlsxWriter works.\n",
        "\n",
        "### Initializing our XlsxWriter Object"
      ]
    },
    {
      "cell_type": "code",
      "metadata": {
        "id": "IOz_vt8uJmJJ"
      },
      "source": [
        "writer = pd.ExcelWriter('recommended trades.xlsx', engine = \"xlsxwriter\")\n",
        "final_dataframe.to_excel(writer, \"Recommended Trades\", index = False)"
      ],
      "execution_count": 17,
      "outputs": []
    },
    {
      "cell_type": "markdown",
      "metadata": {
        "id": "YqoFWITSJmJJ"
      },
      "source": [
        "### Creating the Formats We'll Need For Our `.xlsx` File\n",
        "\n",
        "Formats include colors, fonts, and also symbols like `%` and `$`. We'll need four main formats for our Excel document:\n",
        "* String format for tickers\n",
        "* \\\\$XX.XX format for stock prices\n",
        "* \\\\$XX,XXX format for market capitalization\n",
        "* Integer format for the number of shares to purchase"
      ]
    },
    {
      "cell_type": "code",
      "metadata": {
        "id": "M2lpuzPhJmJK"
      },
      "source": [
        "background_color = \"#0a0a23\"\n",
        "font_color = \"#ffffff\"\n",
        "\n",
        "string_format = writer.book.add_format(\n",
        "    {\n",
        "        \"font_color\" : font_color,\n",
        "        \"bg_color\"   : background_color,\n",
        "        \"border\"     : 1\n",
        "    }\n",
        ")\n",
        "\n",
        "\n",
        "dollar_format = writer.book.add_format(\n",
        "    { \n",
        "        \"num_format\" : \"$0.00\",\n",
        "        \"font_color\" : font_color,\n",
        "        \"bg_color\"   : background_color,\n",
        "        \"border\"     : 1\n",
        "    }\n",
        ")\n",
        "\n",
        "integer_format = writer.book.add_format(\n",
        "    {\n",
        "        \"num_format\" : \"0\",\n",
        "        \"font_color\" : font_color,\n",
        "        \"bg_color\"   : background_color,\n",
        "        \"border\"     : 1\n",
        "    }\n",
        ")\n"
      ],
      "execution_count": 14,
      "outputs": []
    },
    {
      "cell_type": "markdown",
      "metadata": {
        "id": "8Mvrk8QJJmJK"
      },
      "source": [
        "### Applying the Formats to the Columns of Our `.xlsx` File\n",
        "\n",
        "We can use the `set_column` method applied to the `writer.sheets['Recommended Trades']` object to apply formats to specific columns of our spreadsheets.\n",
        "\n",
        "Here's an example:\n",
        "\n",
        "```python\n",
        "writer.sheets['Recommended Trades'].set_column('B:B', #This tells the method to apply the format to column B\n",
        "                     18, #This tells the method to apply a column width of 18 pixels\n",
        "                     string_template #This applies the format 'string_template' to the column\n",
        "                    )\n",
        "```"
      ]
    },
    {
      "cell_type": "code",
      "metadata": {
        "id": "Qz-aZq3PJmJK"
      },
      "source": [
        "writer.sheets['Recommended Trades'].set_column('A:A', 20, string_format)\n",
        "writer.sheets['Recommended Trades'].set_column('B:B', 20, string_format)\n",
        "writer.sheets['Recommended Trades'].set_column('C:C', 20, string_format)\n",
        "writer.sheets['Recommended Trades'].set_column('D:D', 20, string_format)\n",
        "writer.save()"
      ],
      "execution_count": 19,
      "outputs": []
    },
    {
      "cell_type": "markdown",
      "metadata": {
        "id": "MjoqJFtiJmJK"
      },
      "source": [
        "This code works, but it violates the software principle of \"Don't Repeat Yourself\". \n",
        "\n",
        "Let's simplify this by putting it in 2 loops:"
      ]
    },
    {
      "cell_type": "code",
      "metadata": {
        "id": "-L5zyY6sJmJK"
      },
      "source": [
        "column_formats = { \n",
        "                    'A': ['Ticker', string_format],\n",
        "                    'B': ['Price', dollar_format],\n",
        "                    'C': ['Market Capitalization', dollar_format],\n",
        "                    'D': ['Number of Shares to Buy', integer_format]\n",
        "                    }\n",
        "\n",
        "for column in column_formats.keys():\n",
        "    writer.sheets['Recommended Trades'].set_column(f'{column}:{column}', 20, column_formats[column][1])\n",
        "    writer.sheets['Recommended Trades'].write(f'{column}1', column_formats[column][0], string_format)\n",
        "\n"
      ],
      "execution_count": 20,
      "outputs": []
    },
    {
      "cell_type": "markdown",
      "metadata": {
        "id": "7lXyoaC7JmJK"
      },
      "source": [
        "## Saving Our Excel Output\n",
        "\n",
        "Saving our Excel file is very easy:"
      ]
    },
    {
      "cell_type": "code",
      "metadata": {
        "id": "wiLmAWlJJmJK",
        "colab": {
          "base_uri": "https://localhost:8080/"
        },
        "outputId": "ec6fba55-e1b2-4734-988e-22b49e9f4d8e"
      },
      "source": [
        "writer.save()"
      ],
      "execution_count": 21,
      "outputs": [
        {
          "output_type": "stream",
          "text": [
            "/usr/local/lib/python3.6/dist-packages/xlsxwriter/workbook.py:329: UserWarning: Calling close() on already closed file.\n",
            "  warn(\"Calling close() on already closed file.\")\n"
          ],
          "name": "stderr"
        }
      ]
    }
  ]
}