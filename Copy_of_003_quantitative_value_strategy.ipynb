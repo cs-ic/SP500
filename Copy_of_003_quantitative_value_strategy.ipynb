{
  "nbformat": 4,
  "nbformat_minor": 0,
  "metadata": {
    "kernelspec": {
      "display_name": "Python 3",
      "language": "python",
      "name": "python3"
    },
    "language_info": {
      "codemirror_mode": {
        "name": "ipython",
        "version": 3
      },
      "file_extension": ".py",
      "mimetype": "text/x-python",
      "name": "python",
      "nbconvert_exporter": "python",
      "pygments_lexer": "ipython3",
      "version": "3.8.5"
    },
    "colab": {
      "name": "Copy of 003_quantitative_value_strategy.ipynb",
      "provenance": [],
      "collapsed_sections": [],
      "toc_visible": true
    }
  },
  "cells": [
    {
      "cell_type": "markdown",
      "metadata": {
        "id": "xSGN6RJopTao"
      },
      "source": [
        "# Quantitative Value Strategy\n",
        "\"Value investing\" means investing in the stocks that are cheapest relative to common measures of business value (like earnings or assets).\n",
        "\n",
        "For this project, we're going to build an investing strategy that selects the 50 stocks with the best value metrics. From there, we will calculate recommended trades for an equal-weight portfolio of these 50 stocks.\n",
        "\n",
        "## Library Imports\n",
        "The first thing we need to do is import the open-source software libraries that we'll be using in this tutorial."
      ]
    },
    {
      "cell_type": "code",
      "metadata": {
        "id": "-LV4F8SupTaw"
      },
      "source": [
        "import numpy as np\n",
        "import pandas as pd\n",
        "import xlsxwriter \n",
        "from scipy import stats\n",
        "import math\n",
        "import requests"
      ],
      "execution_count": 147,
      "outputs": []
    },
    {
      "cell_type": "markdown",
      "metadata": {
        "id": "6f3MxqFzpTaw"
      },
      "source": [
        "## Importing Our List of Stocks & API Token\n",
        "As before, we'll need to import our list of stocks and our API token before proceeding. Make sure the .csv file is still in your working directory and import it with the following command:"
      ]
    },
    {
      "cell_type": "code",
      "metadata": {
        "id": "ZeRnjJLwpTay"
      },
      "source": [
        "stocks = pd.read_csv(\"sp_500_stocks.csv\")\n",
        "IEX_CLOUD_API_TOKEN = \"Tpk_059b97af715d417d9f49f50b51b1c448\"\n",
        "stocks"
      ],
      "execution_count": null,
      "outputs": []
    },
    {
      "cell_type": "markdown",
      "metadata": {
        "id": "ePevjzrCpTaz"
      },
      "source": [
        "## Making Our First API Call\n",
        "It's now time to make the first version of our value screener!\n",
        "\n",
        "We'll start by building a simple value screener that ranks securities based on a single metric (the price-to-earnings ratio)."
      ]
    },
    {
      "cell_type": "code",
      "metadata": {
        "id": "PGP6nE8ApTa0",
        "colab": {
          "base_uri": "https://localhost:8080/"
        },
        "outputId": "13a0018a-3059-4b85-c91f-b54c0f5c534f"
      },
      "source": [
        "symbol = \"AAPL\"\n",
        "api_url = f\"https://sandbox.iexapis.com/stable/stock/{symbol}/quote?token={IEX_CLOUD_API_TOKEN}\"\n",
        "data = requests.get(api_url).json()\n",
        "data"
      ],
      "execution_count": 31,
      "outputs": [
        {
          "output_type": "execute_result",
          "data": {
            "text/plain": [
              "{'avgTotalVolume': 115699520,\n",
              " 'calculationPrice': 'close',\n",
              " 'change': 1.15,\n",
              " 'changePercent': 0.0088,\n",
              " 'close': 132.36,\n",
              " 'closeSource': 'lciafiof',\n",
              " 'closeTime': 1665583822560,\n",
              " 'companyName': 'Apple Inc',\n",
              " 'delayedPrice': 136.56,\n",
              " 'delayedPriceTime': 1624840542805,\n",
              " 'extendedChange': -0.3,\n",
              " 'extendedChangePercent': -0.0022,\n",
              " 'extendedPrice': 134.6,\n",
              " 'extendedPriceTime': 1630292197028,\n",
              " 'high': 134.76,\n",
              " 'highSource': 'eyiedce5pramint 1d elu ',\n",
              " 'highTime': 1649968432389,\n",
              " 'iexAskPrice': 0,\n",
              " 'iexAskSize': 0,\n",
              " 'iexBidPrice': 0,\n",
              " 'iexBidSize': 0,\n",
              " 'iexClose': 137.6,\n",
              " 'iexCloseTime': 1671457796453,\n",
              " 'iexLastUpdated': 1679616569472,\n",
              " 'iexMarketPercent': 0.013366758563301391,\n",
              " 'iexOpen': 138.32,\n",
              " 'iexOpenTime': 1637892799892,\n",
              " 'iexRealtimePrice': 134.72,\n",
              " 'iexRealtimeSize': 37,\n",
              " 'iexVolume': 1364023,\n",
              " 'isUSMarketOpen': False,\n",
              " 'lastTradeTime': 1643135895327,\n",
              " 'latestPrice': 137.96,\n",
              " 'latestSource': 'Close',\n",
              " 'latestTime': 'January 8, 2021',\n",
              " 'latestUpdate': 1668013305115,\n",
              " 'latestVolume': 107488865,\n",
              " 'low': 135.12,\n",
              " 'lowSource': 'Ei r iI eetXapemlrc',\n",
              " 'lowTime': 1628850388173,\n",
              " 'marketCap': 2243063009810,\n",
              " 'oddLotDelayedPrice': 136.29,\n",
              " 'oddLotDelayedPriceTime': 1633223011827,\n",
              " 'open': 138.2,\n",
              " 'openSource': 'fciafoil',\n",
              " 'openTime': 1632347374577,\n",
              " 'peRatio': 40.62,\n",
              " 'previousClose': 137,\n",
              " 'previousVolume': 114656333,\n",
              " 'primaryExchange': 'CDNE LAORSEKNL(M SABST/AA)GE LQTG',\n",
              " 'symbol': 'AAPL',\n",
              " 'volume': 109252571,\n",
              " 'week52High': 136.83,\n",
              " 'week52Low': 57.83,\n",
              " 'ytdChange': 0.0039117117261586315}"
            ]
          },
          "metadata": {
            "tags": []
          },
          "execution_count": 31
        }
      ]
    },
    {
      "cell_type": "markdown",
      "metadata": {
        "id": "73SH0lE3pTa2"
      },
      "source": [
        "## Parsing Our API Call\n",
        "This API call has the metric we need - the price-to-earnings ratio.\n",
        "\n",
        "Here is an example of how to parse the metric from our API call:"
      ]
    },
    {
      "cell_type": "code",
      "metadata": {
        "id": "2UmSNKi5pTa2"
      },
      "source": [
        ""
      ],
      "execution_count": null,
      "outputs": []
    },
    {
      "cell_type": "markdown",
      "metadata": {
        "id": "qK5oWSmopTa3"
      },
      "source": [
        "## Executing A Batch API Call & Building Our DataFrame\n",
        "\n",
        "Just like in our first project, it's now time to execute several batch API calls and add the information we need to our DataFrame.\n",
        "\n",
        "We'll start by running the following code cell, which contains some code we already built last time that we can re-use for this project. More specifically, it contains a function called chunks that we can use to divide our list of securities into groups of 100."
      ]
    },
    {
      "cell_type": "code",
      "metadata": {
        "id": "4lAPG6tzpTa3"
      },
      "source": [
        "# Function sourced from \n",
        "# https://stackoverflow.com/questions/312443/how-do-you-split-a-list-into-evenly-sized-chunks\n",
        "def chunks(lst, n):\n",
        "    \"\"\"Yield successive n-sized chunks from lst.\"\"\"\n",
        "    for i in range(0, len(lst), n):\n",
        "        yield lst[i:i + n]   \n",
        "        \n",
        "symbol_groups = list(chunks(stocks['Ticker'], 100))\n",
        "symbol_strings = []\n",
        "for i in range(0, len(symbol_groups)):\n",
        "    symbol_strings.append(','.join(symbol_groups[i]))\n",
        "    # print(symbol_strings[i])\n",
        "\n",
        "my_columns = ['Ticker', 'Price', 'Price-to-Earnings Ratio', 'Number of Shares to Buy']\n",
        "symbol_strings"
      ],
      "execution_count": null,
      "outputs": []
    },
    {
      "cell_type": "markdown",
      "metadata": {
        "id": "4u0B35AMpTa4"
      },
      "source": [
        "Now we need to create a blank DataFrame and add our data to the data frame one-by-one."
      ]
    },
    {
      "cell_type": "code",
      "metadata": {
        "id": "xXgxOeI0pTa7"
      },
      "source": [
        "final_dataframe = pd.DataFrame(columns=my_columns)\n",
        "\n",
        "for symbol_string in symbol_strings:\n",
        "  batch_api_url = f\"https://sandbox.iexapis.com/stable/stock/market/batch?symbols={symbol_string}&types=quote&token={IEX_CLOUD_API_TOKEN}\"\n",
        "  data = requests.get(batch_api_url).json()\n",
        "  for symbol in data:\n",
        "    final_dataframe = final_dataframe.append(\n",
        "        pd.Series(\n",
        "            [ symbol,\n",
        "            data[symbol][\"quote\"][\"latestPrice\"],\n",
        "            data[symbol][\"quote\"][\"peRatio\"],\n",
        "            \"N/A\"\n",
        "            ],index = my_columns\n",
        "        ),\n",
        "      ignore_index = True\n",
        "    )\n",
        "\n",
        "final_dataframe"
      ],
      "execution_count": null,
      "outputs": []
    },
    {
      "cell_type": "markdown",
      "metadata": {
        "id": "AVxgeJhtpTa8"
      },
      "source": [
        "## Removing Glamour Stocks\n",
        "\n",
        "The opposite of a \"value stock\" is a \"glamour stock\". \n",
        "\n",
        "Since the goal of this strategy is to identify the 50 best value stocks from our universe, our next step is to remove glamour stocks from the DataFrame.\n",
        "\n",
        "We'll sort the DataFrame by the stocks' price-to-earnings ratio, and drop all stocks outside the top 50."
      ]
    },
    {
      "cell_type": "code",
      "metadata": {
        "id": "GaWYEVjTpTa9"
      },
      "source": [
        "final_dataframe.sort_values(\"Price-to-Earnings Ratio\", inplace=True)\n",
        "final_dataframe = final_dataframe[final_dataframe[\"Price-to-Earnings Ratio\"] > 0]\n",
        "final_dataframe = final_dataframe[:50]\n",
        "final_dataframe.reset_index(inplace = True)\n",
        "final_dataframe.drop(\"index\", axis = 1, inplace = True)\n",
        "final_dataframe"
      ],
      "execution_count": null,
      "outputs": []
    },
    {
      "cell_type": "markdown",
      "metadata": {
        "id": "d3tEXWs3pTa-"
      },
      "source": [
        "## Calculating the Number of Shares to Buy\n",
        "We now need to calculate the number of shares we need to buy. \n",
        "\n",
        "To do this, we will use the `portfolio_input` function that we created in our momentum project.\n",
        "\n",
        "I have included this function below."
      ]
    },
    {
      "cell_type": "code",
      "metadata": {
        "id": "fHXQZdQ0pTa-"
      },
      "source": [
        "def portfolio_input():\n",
        "    global portfolio_size\n",
        "    portfolio_size = float(input(\"Enter the value of your portfolio:\"))\n",
        "\n",
        "    try:\n",
        "        val = float(portfolio_size)\n",
        "    except ValueError:\n",
        "        print(\"That's not a number! \\n Try again:\")\n",
        "        portfolio_size = input(\"Enter the value of your portfolio:\")"
      ],
      "execution_count": 56,
      "outputs": []
    },
    {
      "cell_type": "markdown",
      "metadata": {
        "id": "XHsu6-XupTa_"
      },
      "source": [
        "Use the `portfolio_input` function to accept a `portfolio_size` variable from the user of this script."
      ]
    },
    {
      "cell_type": "code",
      "metadata": {
        "id": "38rSMBYJpTa_",
        "colab": {
          "base_uri": "https://localhost:8080/"
        },
        "outputId": "5d184d49-08e8-4796-e000-cf9f0c9a7acc"
      },
      "source": [
        "portfolio_input()\n"
      ],
      "execution_count": 57,
      "outputs": [
        {
          "output_type": "stream",
          "text": [
            "Enter the value of your portfolio:1000000\n"
          ],
          "name": "stdout"
        }
      ]
    },
    {
      "cell_type": "markdown",
      "metadata": {
        "id": "862utD8ypTa_"
      },
      "source": [
        "\n",
        "You can now use the global `portfolio_size` variable to calculate the number of shares that our strategy should purchase."
      ]
    },
    {
      "cell_type": "code",
      "metadata": {
        "id": "O1geUe7fpTbA"
      },
      "source": [
        "position_size = portfolio_size / len(final_dataframe.index)\n",
        "for i in final_dataframe.index:\n",
        "  final_dataframe.loc[i, [\"Number of Shares to Buy\"]] = math.floor(position_size/final_dataframe.loc[i, [\"Price\"]])\n",
        "\n",
        "final_dataframe\n"
      ],
      "execution_count": null,
      "outputs": []
    },
    {
      "cell_type": "markdown",
      "metadata": {
        "id": "ToEeCdRspTbB"
      },
      "source": [
        "## Building a Better (and More Realistic) Value Strategy\n",
        "Every valuation metric has certain flaws.\n",
        "\n",
        "For example, the price-to-earnings ratio doesn't work well with stocks with negative earnings.\n",
        "\n",
        "Similarly, stocks that buyback their own shares are difficult to value using the price-to-book ratio.\n",
        "\n",
        "Investors typically use a `composite` basket of valuation metrics to build robust quantitative value strategies. In this section, we will filter for stocks with the lowest percentiles on the following metrics:\n",
        "\n",
        "* Price-to-earnings ratio\n",
        "* Price-to-book ratio\n",
        "* Price-to-sales ratio\n",
        "* Enterprise Value divided by Earnings Before Interest, Taxes, Depreciation, and Amortization (EV/EBITDA)\n",
        "* Enterprise Value divided by Gross Profit (EV/GP)\n",
        "\n",
        "Some of these metrics aren't provided directly by the IEX Cloud API, and must be computed after pulling raw data. We'll start by calculating each data point from scratch."
      ]
    },
    {
      "cell_type": "code",
      "metadata": {
        "id": "8_Mn-_yUpTbB",
        "colab": {
          "base_uri": "https://localhost:8080/"
        },
        "outputId": "e14d50fd-8efd-4153-bdf0-4122ab922cfb"
      },
      "source": [
        "symbol = \"AAPL\"\n",
        "batch_api_url = f\"https://sandbox.iexapis.com/stable/stock/market/batch?symbols={symbol}&types=quote,advanced-stats&token={IEX_CLOUD_API_TOKEN}\"\n",
        "data = requests.get(batch_api_url).json()\n",
        "# Price-to-earnings ratio\n",
        "pe_ratio = data[symbol][\"quote\"][\"peRatio\"]\n",
        "print(pe_ratio)\n",
        "# Price-to-book ratio\n",
        "pb_ratio = data[symbol][\"advanced-stats\"][\"priceToBook\"]\n",
        "print(pb_ratio)\n",
        "# Price-to-sales ratio\n",
        "ps_ratio = data[symbol][\"advanced-stats\"]['priceToSales']\n",
        "print(ps_ratio)\n",
        "# Enterprise Value divided by Earnings Before Interest, Taxes, Depreciation, and Amortization (EV/EBITDA)\n",
        "ev_to_ebitda = data[symbol][\"advanced-stats\"]['enterpriseValue']/data[symbol][\"advanced-stats\"][\"EBITDA\"]\n",
        "print(ev_to_ebitda)\n",
        "# Enterprise Value divided by Gross Profit (EV/GP)\n",
        "ev_to_gross_profit = data[symbol][\"advanced-stats\"]['enterpriseValue']/data[symbol][\"advanced-stats\"][\"grossProfit\"]\n",
        "print(ev_to_gross_profit)\n",
        "# data"
      ],
      "execution_count": 84,
      "outputs": [
        {
          "output_type": "stream",
          "text": [
            "40.85\n",
            "35\n",
            "8.11\n",
            "28.028737424138825\n",
            "20.823906861571054\n"
          ],
          "name": "stdout"
        }
      ]
    },
    {
      "cell_type": "markdown",
      "metadata": {
        "id": "FwV8c7XzpTbC"
      },
      "source": [
        "Let's move on to building our DataFrame. You'll notice that I use the abbreviation `rv` often. It stands for `robust value`, which is what we'll call this sophisticated strategy moving forward."
      ]
    },
    {
      "cell_type": "code",
      "metadata": {
        "id": "wtkVAIFTpTbC"
      },
      "source": [
        "rv_columns = [\n",
        "    'Ticker',\n",
        "    'Price',\n",
        "    'Number of Shares to Buy', \n",
        "    'Price-to-Earnings Ratio',\n",
        "    'PE Percentile',\n",
        "    'Price-to-Book Ratio',\n",
        "    'PB Percentile',\n",
        "    'Price-to-Sales Ratio',\n",
        "    'PS Percentile',\n",
        "    'EV/EBITDA',\n",
        "    'EV/EBITDA Percentile',\n",
        "    'EV/GP',\n",
        "    'EV/GP Percentile',\n",
        "    'RV Score'\n",
        "]\n",
        "\n",
        "rv_dataframe = pd.DataFrame(columns=rv_columns)\n",
        "\n",
        "for symbol_string in symbol_strings:\n",
        "  batch_api_url = f\"https://sandbox.iexapis.com/stable/stock/market/batch?symbols={symbol_string}&types=quote,advanced-stats&token={IEX_CLOUD_API_TOKEN}\"\n",
        "  data = requests.get(batch_api_url).json()\n",
        "  for symbol in symbol_string.split(\",\"):\n",
        "    try:\n",
        "      ev_to_ebitda = data[symbol][\"advanced-stats\"]['enterpriseValue']/data[symbol][\"advanced-stats\"][\"EBITDA\"]\n",
        "    except TypeError:\n",
        "      ev_to_ebitda = np.NaN\n",
        "\n",
        "    try: \n",
        "      ev_to_gp = data[symbol][\"advanced-stats\"]['enterpriseValue']/data[symbol][\"advanced-stats\"][\"grossProfit\"]\n",
        "    except TypeError:\n",
        "      ev_to_gp = np.NaN\n",
        "    \n",
        "    rv_dataframe = rv_dataframe.append(\n",
        "        pd.Series(\n",
        "            [\n",
        "              symbol,\n",
        "              data[symbol][\"quote\"][\"latestPrice\"],\n",
        "              'N/A', \n",
        "              data[symbol][\"quote\"][\"peRatio\"],\n",
        "              'N/A',\n",
        "              data[symbol][\"advanced-stats\"][\"priceToBook\"],\n",
        "              'N/A',\n",
        "              data[symbol][\"advanced-stats\"]['priceToSales'],\n",
        "              'N/A',\n",
        "              ev_to_ebitda,\n",
        "              'N/A',\n",
        "              ev_to_gp,\n",
        "              'N/A',\n",
        "              'N/A' \n",
        "            ],\n",
        "            index = rv_columns),\n",
        "        ignore_index = True \n",
        "    )\n",
        "\n",
        "rv_dataframe\n"
      ],
      "execution_count": null,
      "outputs": []
    },
    {
      "cell_type": "code",
      "metadata": {
        "id": "VS_I2grXpTbD"
      },
      "source": [
        ""
      ],
      "execution_count": null,
      "outputs": []
    },
    {
      "cell_type": "markdown",
      "metadata": {
        "id": "Pmzrl-okpTbE"
      },
      "source": [
        "## Dealing With Missing Data in Our DataFrame\n",
        "\n",
        "Our DataFrame contains some missing data because all of the metrics we require are not available through the API we're using. \n",
        "\n",
        "You can use pandas' `isnull` method to identify missing data:"
      ]
    },
    {
      "cell_type": "code",
      "metadata": {
        "id": "_E7nh1nOpTbE"
      },
      "source": [
        ""
      ],
      "execution_count": null,
      "outputs": []
    },
    {
      "cell_type": "markdown",
      "metadata": {
        "id": "_WfyW5zspTbF"
      },
      "source": [
        "Dealing with missing data is an important topic in data science.\n",
        "\n",
        "There are two main approaches:\n",
        "\n",
        "* Drop missing data from the data set (pandas' `dropna` method is useful here)\n",
        "* Replace missing data with a new value (pandas' `fillna` method is useful here)\n",
        "\n",
        "In this tutorial, we will replace missing data with the average non-`NaN` data point from that column. \n",
        "\n",
        "Here is the code to do this:"
      ]
    },
    {
      "cell_type": "code",
      "metadata": {
        "id": "PVqqFDRmpTbF"
      },
      "source": [
        "for column in ['Price-to-Earnings Ratio', 'Price-to-Book Ratio','Price-to-Sales Ratio', 'EV/EBITDA', 'EV/GP']:\n",
        "  rv_dataframe[column].fillna(rv_dataframe[column].mean(), inplace = True)\n",
        "\n",
        "rv_dataframe[rv_dataframe.isnull().any(axis = 1)]"
      ],
      "execution_count": null,
      "outputs": []
    },
    {
      "cell_type": "markdown",
      "metadata": {
        "id": "3Q50DhDvpTbG"
      },
      "source": [
        "Now, if we run the statement from earlier to print rows that contain missing data, nothing should be returned:"
      ]
    },
    {
      "cell_type": "markdown",
      "metadata": {
        "id": "mkx2vbyxpTbG"
      },
      "source": [
        "## Calculating Value Percentiles\n",
        "\n",
        "We now need to calculate value score percentiles for every stock in the universe. More specifically, we need to calculate percentile scores for the following metrics for every stock:\n",
        "\n",
        "* Price-to-earnings ratio\n",
        "* Price-to-book ratio\n",
        "* Price-to-sales ratio\n",
        "* EV/EBITDA\n",
        "* EV/GP\n",
        "\n",
        "Here's how we'll do this:"
      ]
    },
    {
      "cell_type": "code",
      "metadata": {
        "id": "S4JAkVv3pTbG",
        "colab": {
          "base_uri": "https://localhost:8080/",
          "height": 496
        },
        "outputId": "f16b41f2-8d13-439e-dfcc-d1106059908e"
      },
      "source": [
        "metrics = {\n",
        "    'Price-to-Earnings Ratio': 'PE Percentile',\n",
        "    'Price-to-Book Ratio' : 'PB Percentile',\n",
        "    'Price-to-Sales Ratio' : 'PS Percentile',\n",
        "    'EV/EBITDA' : 'EV/EBITDA Percentile',\n",
        "    'EV/GP' : 'EV/GP Percentile',\n",
        "}\n",
        "\n",
        "for metric in metrics.keys():\n",
        "  for row in rv_dataframe.index:\n",
        "    rv_dataframe.loc[row, metrics[metric]] = stats.percentileofscore(rv_dataframe[metric],rv_dataframe.loc[row, metric])\n",
        "\n",
        "rv_dataframe"
      ],
      "execution_count": 138,
      "outputs": [
        {
          "output_type": "execute_result",
          "data": {
            "text/html": [
              "<div>\n",
              "<style scoped>\n",
              "    .dataframe tbody tr th:only-of-type {\n",
              "        vertical-align: middle;\n",
              "    }\n",
              "\n",
              "    .dataframe tbody tr th {\n",
              "        vertical-align: top;\n",
              "    }\n",
              "\n",
              "    .dataframe thead th {\n",
              "        text-align: right;\n",
              "    }\n",
              "</style>\n",
              "<table border=\"1\" class=\"dataframe\">\n",
              "  <thead>\n",
              "    <tr style=\"text-align: right;\">\n",
              "      <th></th>\n",
              "      <th>Ticker</th>\n",
              "      <th>Price</th>\n",
              "      <th>Number of Shares to Buy</th>\n",
              "      <th>Price-to-Earnings Ratio</th>\n",
              "      <th>PE Percentile</th>\n",
              "      <th>Price-to-Book Ratio</th>\n",
              "      <th>PB Percentile</th>\n",
              "      <th>Price-to-Sales Ratio</th>\n",
              "      <th>PS Percentile</th>\n",
              "      <th>EV/EBITDA</th>\n",
              "      <th>EV/EBITDA Percentile</th>\n",
              "      <th>EV/GP</th>\n",
              "      <th>EV/GP Percentile</th>\n",
              "      <th>RV Score</th>\n",
              "    </tr>\n",
              "  </thead>\n",
              "  <tbody>\n",
              "    <tr>\n",
              "      <th>0</th>\n",
              "      <td>A</td>\n",
              "      <td>131.66</td>\n",
              "      <td>N/A</td>\n",
              "      <td>55.47</td>\n",
              "      <td>85.7426</td>\n",
              "      <td>8.00</td>\n",
              "      <td>73.4653</td>\n",
              "      <td>7.5000</td>\n",
              "      <td>80.9901</td>\n",
              "      <td>35.129122</td>\n",
              "      <td>84.7525</td>\n",
              "      <td>14.201000</td>\n",
              "      <td>82.3762</td>\n",
              "      <td>N/A</td>\n",
              "    </tr>\n",
              "    <tr>\n",
              "      <th>1</th>\n",
              "      <td>AAL</td>\n",
              "      <td>15.66</td>\n",
              "      <td>N/A</td>\n",
              "      <td>-1.11</td>\n",
              "      <td>14.4554</td>\n",
              "      <td>-1.68</td>\n",
              "      <td>4.55446</td>\n",
              "      <td>0.3813</td>\n",
              "      <td>2.17822</td>\n",
              "      <td>-6.165421</td>\n",
              "      <td>2.77228</td>\n",
              "      <td>1.401192</td>\n",
              "      <td>5.34653</td>\n",
              "      <td>N/A</td>\n",
              "    </tr>\n",
              "    <tr>\n",
              "      <th>2</th>\n",
              "      <td>AAP</td>\n",
              "      <td>175.71</td>\n",
              "      <td>N/A</td>\n",
              "      <td>25.37</td>\n",
              "      <td>47.1287</td>\n",
              "      <td>3.09</td>\n",
              "      <td>41.9802</td>\n",
              "      <td>1.2300</td>\n",
              "      <td>18.1188</td>\n",
              "      <td>11.499209</td>\n",
              "      <td>27.7228</td>\n",
              "      <td>2.652338</td>\n",
              "      <td>12.6733</td>\n",
              "      <td>N/A</td>\n",
              "    </tr>\n",
              "    <tr>\n",
              "      <th>3</th>\n",
              "      <td>AAPL</td>\n",
              "      <td>133.72</td>\n",
              "      <td>N/A</td>\n",
              "      <td>41.11</td>\n",
              "      <td>73.6634</td>\n",
              "      <td>34.00</td>\n",
              "      <td>96.0396</td>\n",
              "      <td>8.2800</td>\n",
              "      <td>84.1584</td>\n",
              "      <td>29.332645</td>\n",
              "      <td>81.7822</td>\n",
              "      <td>21.066187</td>\n",
              "      <td>93.8614</td>\n",
              "      <td>N/A</td>\n",
              "    </tr>\n",
              "    <tr>\n",
              "      <th>4</th>\n",
              "      <td>ABBV</td>\n",
              "      <td>110.39</td>\n",
              "      <td>N/A</td>\n",
              "      <td>23.56</td>\n",
              "      <td>44.7525</td>\n",
              "      <td>13.00</td>\n",
              "      <td>85.1485</td>\n",
              "      <td>4.8900</td>\n",
              "      <td>68.7129</td>\n",
              "      <td>16.218431</td>\n",
              "      <td>47.9208</td>\n",
              "      <td>9.445878</td>\n",
              "      <td>63.3663</td>\n",
              "      <td>N/A</td>\n",
              "    </tr>\n",
              "    <tr>\n",
              "      <th>...</th>\n",
              "      <td>...</td>\n",
              "      <td>...</td>\n",
              "      <td>...</td>\n",
              "      <td>...</td>\n",
              "      <td>...</td>\n",
              "      <td>...</td>\n",
              "      <td>...</td>\n",
              "      <td>...</td>\n",
              "      <td>...</td>\n",
              "      <td>...</td>\n",
              "      <td>...</td>\n",
              "      <td>...</td>\n",
              "      <td>...</td>\n",
              "      <td>...</td>\n",
              "    </tr>\n",
              "    <tr>\n",
              "      <th>500</th>\n",
              "      <td>YUM</td>\n",
              "      <td>110.53</td>\n",
              "      <td>N/A</td>\n",
              "      <td>32.55</td>\n",
              "      <td>62.1782</td>\n",
              "      <td>-4.13</td>\n",
              "      <td>4.15842</td>\n",
              "      <td>5.9500</td>\n",
              "      <td>74.3564</td>\n",
              "      <td>23.323840</td>\n",
              "      <td>71.4851</td>\n",
              "      <td>9.889702</td>\n",
              "      <td>66.1386</td>\n",
              "      <td>N/A</td>\n",
              "    </tr>\n",
              "    <tr>\n",
              "      <th>501</th>\n",
              "      <td>ZBH</td>\n",
              "      <td>165.08</td>\n",
              "      <td>N/A</td>\n",
              "      <td>-224.63</td>\n",
              "      <td>1.9802</td>\n",
              "      <td>2.87</td>\n",
              "      <td>38.5149</td>\n",
              "      <td>4.6800</td>\n",
              "      <td>63.5644</td>\n",
              "      <td>27.916793</td>\n",
              "      <td>79.2079</td>\n",
              "      <td>8.121371</td>\n",
              "      <td>50.8911</td>\n",
              "      <td>N/A</td>\n",
              "    </tr>\n",
              "    <tr>\n",
              "      <th>502</th>\n",
              "      <td>ZBRA</td>\n",
              "      <td>421.33</td>\n",
              "      <td>N/A</td>\n",
              "      <td>46.98</td>\n",
              "      <td>77.8218</td>\n",
              "      <td>11.30</td>\n",
              "      <td>83.3663</td>\n",
              "      <td>5.2100</td>\n",
              "      <td>70.396</td>\n",
              "      <td>33.068671</td>\n",
              "      <td>84.3564</td>\n",
              "      <td>11.978332</td>\n",
              "      <td>74.4554</td>\n",
              "      <td>N/A</td>\n",
              "    </tr>\n",
              "    <tr>\n",
              "      <th>503</th>\n",
              "      <td>ZION</td>\n",
              "      <td>49.80</td>\n",
              "      <td>N/A</td>\n",
              "      <td>20.80</td>\n",
              "      <td>40</td>\n",
              "      <td>1.16</td>\n",
              "      <td>11.5842</td>\n",
              "      <td>2.7300</td>\n",
              "      <td>44.4554</td>\n",
              "      <td>12.395598</td>\n",
              "      <td>32.8713</td>\n",
              "      <td>3.205843</td>\n",
              "      <td>17.2277</td>\n",
              "      <td>N/A</td>\n",
              "    </tr>\n",
              "    <tr>\n",
              "      <th>504</th>\n",
              "      <td>ZTS</td>\n",
              "      <td>172.84</td>\n",
              "      <td>N/A</td>\n",
              "      <td>51.43</td>\n",
              "      <td>82.7723</td>\n",
              "      <td>27.93</td>\n",
              "      <td>94.6535</td>\n",
              "      <td>12.7000</td>\n",
              "      <td>93.6634</td>\n",
              "      <td>36.445993</td>\n",
              "      <td>85.3465</td>\n",
              "      <td>19.041954</td>\n",
              "      <td>91.6832</td>\n",
              "      <td>N/A</td>\n",
              "    </tr>\n",
              "  </tbody>\n",
              "</table>\n",
              "<p>505 rows × 14 columns</p>\n",
              "</div>"
            ],
            "text/plain": [
              "    Ticker   Price Number of Shares to Buy  ...      EV/GP EV/GP Percentile  RV Score\n",
              "0        A  131.66                     N/A  ...  14.201000          82.3762       N/A\n",
              "1      AAL   15.66                     N/A  ...   1.401192          5.34653       N/A\n",
              "2      AAP  175.71                     N/A  ...   2.652338          12.6733       N/A\n",
              "3     AAPL  133.72                     N/A  ...  21.066187          93.8614       N/A\n",
              "4     ABBV  110.39                     N/A  ...   9.445878          63.3663       N/A\n",
              "..     ...     ...                     ...  ...        ...              ...       ...\n",
              "500    YUM  110.53                     N/A  ...   9.889702          66.1386       N/A\n",
              "501    ZBH  165.08                     N/A  ...   8.121371          50.8911       N/A\n",
              "502   ZBRA  421.33                     N/A  ...  11.978332          74.4554       N/A\n",
              "503   ZION   49.80                     N/A  ...   3.205843          17.2277       N/A\n",
              "504    ZTS  172.84                     N/A  ...  19.041954          91.6832       N/A\n",
              "\n",
              "[505 rows x 14 columns]"
            ]
          },
          "metadata": {
            "tags": []
          },
          "execution_count": 138
        }
      ]
    },
    {
      "cell_type": "markdown",
      "metadata": {
        "id": "6c4WTwqopTbH"
      },
      "source": [
        "## Calculating the RV Score\n",
        "We'll now calculate our RV Score (which stands for Robust Value), which is the value score that we'll use to filter for stocks in this investing strategy.\n",
        "\n",
        "The RV Score will be the arithmetic mean of the 4 percentile scores that we calculated in the last section.\n",
        "\n",
        "To calculate arithmetic mean, we will use the mean function from Python's built-in statistics module."
      ]
    },
    {
      "cell_type": "code",
      "metadata": {
        "id": "OCYJzfZlpTbI",
        "colab": {
          "base_uri": "https://localhost:8080/",
          "height": 496
        },
        "outputId": "41bff36e-11c1-4273-e242-4e3a94bb5a4a"
      },
      "source": [
        "from statistics import mean\n",
        "\n",
        "for row in rv_dataframe.index:\n",
        "  PE_ratio = rv_dataframe.loc[row, \"PE Percentile\"]\n",
        "  PB_ratio = rv_dataframe.loc[row, \"PB Percentile\"]\n",
        "  PS_ratio = rv_dataframe.loc[row, \"PS Percentile\"]\n",
        "  EV_EBITDA = rv_dataframe.loc[row, \"EV/EBITDA Percentile\"]\n",
        "  EV_GP = rv_dataframe.loc[row, \"EV/GP Percentile\"]\n",
        "  rv_dataframe.loc[row, \"RV Score\"] = mean([PE_ratio,PB_ratio,PS_ratio,EV_EBITDA,EV_GP])\n",
        "\n",
        "rv_dataframe"
      ],
      "execution_count": 139,
      "outputs": [
        {
          "output_type": "execute_result",
          "data": {
            "text/html": [
              "<div>\n",
              "<style scoped>\n",
              "    .dataframe tbody tr th:only-of-type {\n",
              "        vertical-align: middle;\n",
              "    }\n",
              "\n",
              "    .dataframe tbody tr th {\n",
              "        vertical-align: top;\n",
              "    }\n",
              "\n",
              "    .dataframe thead th {\n",
              "        text-align: right;\n",
              "    }\n",
              "</style>\n",
              "<table border=\"1\" class=\"dataframe\">\n",
              "  <thead>\n",
              "    <tr style=\"text-align: right;\">\n",
              "      <th></th>\n",
              "      <th>Ticker</th>\n",
              "      <th>Price</th>\n",
              "      <th>Number of Shares to Buy</th>\n",
              "      <th>Price-to-Earnings Ratio</th>\n",
              "      <th>PE Percentile</th>\n",
              "      <th>Price-to-Book Ratio</th>\n",
              "      <th>PB Percentile</th>\n",
              "      <th>Price-to-Sales Ratio</th>\n",
              "      <th>PS Percentile</th>\n",
              "      <th>EV/EBITDA</th>\n",
              "      <th>EV/EBITDA Percentile</th>\n",
              "      <th>EV/GP</th>\n",
              "      <th>EV/GP Percentile</th>\n",
              "      <th>RV Score</th>\n",
              "    </tr>\n",
              "  </thead>\n",
              "  <tbody>\n",
              "    <tr>\n",
              "      <th>0</th>\n",
              "      <td>A</td>\n",
              "      <td>131.66</td>\n",
              "      <td>N/A</td>\n",
              "      <td>55.47</td>\n",
              "      <td>85.7426</td>\n",
              "      <td>8.00</td>\n",
              "      <td>73.4653</td>\n",
              "      <td>7.5000</td>\n",
              "      <td>80.9901</td>\n",
              "      <td>35.129122</td>\n",
              "      <td>84.7525</td>\n",
              "      <td>14.201000</td>\n",
              "      <td>82.3762</td>\n",
              "      <td>81.4653</td>\n",
              "    </tr>\n",
              "    <tr>\n",
              "      <th>1</th>\n",
              "      <td>AAL</td>\n",
              "      <td>15.66</td>\n",
              "      <td>N/A</td>\n",
              "      <td>-1.11</td>\n",
              "      <td>14.4554</td>\n",
              "      <td>-1.68</td>\n",
              "      <td>4.55446</td>\n",
              "      <td>0.3813</td>\n",
              "      <td>2.17822</td>\n",
              "      <td>-6.165421</td>\n",
              "      <td>2.77228</td>\n",
              "      <td>1.401192</td>\n",
              "      <td>5.34653</td>\n",
              "      <td>5.86139</td>\n",
              "    </tr>\n",
              "    <tr>\n",
              "      <th>2</th>\n",
              "      <td>AAP</td>\n",
              "      <td>175.71</td>\n",
              "      <td>N/A</td>\n",
              "      <td>25.37</td>\n",
              "      <td>47.1287</td>\n",
              "      <td>3.09</td>\n",
              "      <td>41.9802</td>\n",
              "      <td>1.2300</td>\n",
              "      <td>18.1188</td>\n",
              "      <td>11.499209</td>\n",
              "      <td>27.7228</td>\n",
              "      <td>2.652338</td>\n",
              "      <td>12.6733</td>\n",
              "      <td>29.5248</td>\n",
              "    </tr>\n",
              "    <tr>\n",
              "      <th>3</th>\n",
              "      <td>AAPL</td>\n",
              "      <td>133.72</td>\n",
              "      <td>N/A</td>\n",
              "      <td>41.11</td>\n",
              "      <td>73.6634</td>\n",
              "      <td>34.00</td>\n",
              "      <td>96.0396</td>\n",
              "      <td>8.2800</td>\n",
              "      <td>84.1584</td>\n",
              "      <td>29.332645</td>\n",
              "      <td>81.7822</td>\n",
              "      <td>21.066187</td>\n",
              "      <td>93.8614</td>\n",
              "      <td>85.901</td>\n",
              "    </tr>\n",
              "    <tr>\n",
              "      <th>4</th>\n",
              "      <td>ABBV</td>\n",
              "      <td>110.39</td>\n",
              "      <td>N/A</td>\n",
              "      <td>23.56</td>\n",
              "      <td>44.7525</td>\n",
              "      <td>13.00</td>\n",
              "      <td>85.1485</td>\n",
              "      <td>4.8900</td>\n",
              "      <td>68.7129</td>\n",
              "      <td>16.218431</td>\n",
              "      <td>47.9208</td>\n",
              "      <td>9.445878</td>\n",
              "      <td>63.3663</td>\n",
              "      <td>61.9802</td>\n",
              "    </tr>\n",
              "    <tr>\n",
              "      <th>...</th>\n",
              "      <td>...</td>\n",
              "      <td>...</td>\n",
              "      <td>...</td>\n",
              "      <td>...</td>\n",
              "      <td>...</td>\n",
              "      <td>...</td>\n",
              "      <td>...</td>\n",
              "      <td>...</td>\n",
              "      <td>...</td>\n",
              "      <td>...</td>\n",
              "      <td>...</td>\n",
              "      <td>...</td>\n",
              "      <td>...</td>\n",
              "      <td>...</td>\n",
              "    </tr>\n",
              "    <tr>\n",
              "      <th>500</th>\n",
              "      <td>YUM</td>\n",
              "      <td>110.53</td>\n",
              "      <td>N/A</td>\n",
              "      <td>32.55</td>\n",
              "      <td>62.1782</td>\n",
              "      <td>-4.13</td>\n",
              "      <td>4.15842</td>\n",
              "      <td>5.9500</td>\n",
              "      <td>74.3564</td>\n",
              "      <td>23.323840</td>\n",
              "      <td>71.4851</td>\n",
              "      <td>9.889702</td>\n",
              "      <td>66.1386</td>\n",
              "      <td>55.6634</td>\n",
              "    </tr>\n",
              "    <tr>\n",
              "      <th>501</th>\n",
              "      <td>ZBH</td>\n",
              "      <td>165.08</td>\n",
              "      <td>N/A</td>\n",
              "      <td>-224.63</td>\n",
              "      <td>1.9802</td>\n",
              "      <td>2.87</td>\n",
              "      <td>38.5149</td>\n",
              "      <td>4.6800</td>\n",
              "      <td>63.5644</td>\n",
              "      <td>27.916793</td>\n",
              "      <td>79.2079</td>\n",
              "      <td>8.121371</td>\n",
              "      <td>50.8911</td>\n",
              "      <td>46.8317</td>\n",
              "    </tr>\n",
              "    <tr>\n",
              "      <th>502</th>\n",
              "      <td>ZBRA</td>\n",
              "      <td>421.33</td>\n",
              "      <td>N/A</td>\n",
              "      <td>46.98</td>\n",
              "      <td>77.8218</td>\n",
              "      <td>11.30</td>\n",
              "      <td>83.3663</td>\n",
              "      <td>5.2100</td>\n",
              "      <td>70.396</td>\n",
              "      <td>33.068671</td>\n",
              "      <td>84.3564</td>\n",
              "      <td>11.978332</td>\n",
              "      <td>74.4554</td>\n",
              "      <td>78.0792</td>\n",
              "    </tr>\n",
              "    <tr>\n",
              "      <th>503</th>\n",
              "      <td>ZION</td>\n",
              "      <td>49.80</td>\n",
              "      <td>N/A</td>\n",
              "      <td>20.80</td>\n",
              "      <td>40</td>\n",
              "      <td>1.16</td>\n",
              "      <td>11.5842</td>\n",
              "      <td>2.7300</td>\n",
              "      <td>44.4554</td>\n",
              "      <td>12.395598</td>\n",
              "      <td>32.8713</td>\n",
              "      <td>3.205843</td>\n",
              "      <td>17.2277</td>\n",
              "      <td>29.2277</td>\n",
              "    </tr>\n",
              "    <tr>\n",
              "      <th>504</th>\n",
              "      <td>ZTS</td>\n",
              "      <td>172.84</td>\n",
              "      <td>N/A</td>\n",
              "      <td>51.43</td>\n",
              "      <td>82.7723</td>\n",
              "      <td>27.93</td>\n",
              "      <td>94.6535</td>\n",
              "      <td>12.7000</td>\n",
              "      <td>93.6634</td>\n",
              "      <td>36.445993</td>\n",
              "      <td>85.3465</td>\n",
              "      <td>19.041954</td>\n",
              "      <td>91.6832</td>\n",
              "      <td>89.6238</td>\n",
              "    </tr>\n",
              "  </tbody>\n",
              "</table>\n",
              "<p>505 rows × 14 columns</p>\n",
              "</div>"
            ],
            "text/plain": [
              "    Ticker   Price Number of Shares to Buy  ...      EV/GP EV/GP Percentile  RV Score\n",
              "0        A  131.66                     N/A  ...  14.201000          82.3762   81.4653\n",
              "1      AAL   15.66                     N/A  ...   1.401192          5.34653   5.86139\n",
              "2      AAP  175.71                     N/A  ...   2.652338          12.6733   29.5248\n",
              "3     AAPL  133.72                     N/A  ...  21.066187          93.8614    85.901\n",
              "4     ABBV  110.39                     N/A  ...   9.445878          63.3663   61.9802\n",
              "..     ...     ...                     ...  ...        ...              ...       ...\n",
              "500    YUM  110.53                     N/A  ...   9.889702          66.1386   55.6634\n",
              "501    ZBH  165.08                     N/A  ...   8.121371          50.8911   46.8317\n",
              "502   ZBRA  421.33                     N/A  ...  11.978332          74.4554   78.0792\n",
              "503   ZION   49.80                     N/A  ...   3.205843          17.2277   29.2277\n",
              "504    ZTS  172.84                     N/A  ...  19.041954          91.6832   89.6238\n",
              "\n",
              "[505 rows x 14 columns]"
            ]
          },
          "metadata": {
            "tags": []
          },
          "execution_count": 139
        }
      ]
    },
    {
      "cell_type": "markdown",
      "metadata": {
        "id": "h5sldJH8pTbI"
      },
      "source": [
        "## Selecting the 50 Best Value Stocks¶\n",
        "\n",
        "As before, we can identify the 50 best value stocks in our universe by sorting the DataFrame on the RV Score column and dropping all but the top 50 entries."
      ]
    },
    {
      "cell_type": "code",
      "metadata": {
        "id": "CnpUAkKCpTbI"
      },
      "source": [
        "rv_dataframe.sort_values(\"RV Score\", ascending=True, inplace = True)\n",
        "rv_dataframe = rv_dataframe[:50]\n",
        "rv_dataframe.reset_index(inplace = True)\n",
        "rv_dataframe.drop(\"index\", axis = 1, inplace = True)\n",
        "rv_dataframe"
      ],
      "execution_count": null,
      "outputs": []
    },
    {
      "cell_type": "markdown",
      "metadata": {
        "id": "VBRu-819pTbJ"
      },
      "source": [
        "## Calculating the Number of Shares to Buy\n",
        "We'll use the `portfolio_input` function that we created earlier to accept our portfolio size. Then we will use similar logic in a for loop to calculate the number of shares to buy for each stock in our investment universe."
      ]
    },
    {
      "cell_type": "code",
      "metadata": {
        "id": "Lx-9VDBvpTbJ",
        "colab": {
          "base_uri": "https://localhost:8080/"
        },
        "outputId": "ba51f761-9414-44ed-a52e-fd288f6b7db3"
      },
      "source": [
        "portfolio_input()"
      ],
      "execution_count": 123,
      "outputs": [
        {
          "output_type": "stream",
          "text": [
            "Enter the value of your portfolio:2500000\n"
          ],
          "name": "stdout"
        }
      ]
    },
    {
      "cell_type": "code",
      "metadata": {
        "id": "d-_kJXAcD3-A"
      },
      "source": [
        "position_size = portfolio_size / len(rv_dataframe.index )\n",
        "for row in rv_dataframe.index:\n",
        "  rv_dataframe.loc[row, \"Number of Shares to Buy\"] = math.floor(position_size / rv_dataframe.loc[row, \"Price\"])\n",
        "\n",
        "rv_dataframe"
      ],
      "execution_count": null,
      "outputs": []
    },
    {
      "cell_type": "markdown",
      "metadata": {
        "id": "trYT3MN5pTbK"
      },
      "source": [
        "## Formatting Our Excel Output\n",
        "\n",
        "We will be using the XlsxWriter library for Python to create nicely-formatted Excel files.\n",
        "\n",
        "XlsxWriter is an excellent package and offers tons of customization. However, the tradeoff for this is that the library can seem very complicated to new users. Accordingly, this section will be fairly long because I want to do a good job of explaining how XlsxWriter works."
      ]
    },
    {
      "cell_type": "code",
      "metadata": {
        "id": "YD9fl9KUpTbK"
      },
      "source": [
        "writer = pd.ExcelWriter(\"value_strategy.xlsx\", engine = \"xlsxwriter\")\n",
        "\n",
        "rv_dataframe.to_excel(writer, sheet_name=\"Value Strategy\", index = False)"
      ],
      "execution_count": 157,
      "outputs": []
    },
    {
      "cell_type": "markdown",
      "metadata": {
        "id": "6xKMXWpZpTbL"
      },
      "source": [
        "## Creating the Formats We'll Need For Our .xlsx File\n",
        "You'll recall from our first project that formats include colors, fonts, and also symbols like % and $. We'll need four main formats for our Excel document:\n",
        "\n",
        "* String format for tickers\n",
        "* \\$XX.XX format for stock prices\n",
        "* \\$XX,XXX format for market capitalization\n",
        "* Integer format for the number of shares to purchase\n",
        "* Float formats with 1 decimal for each valuation metric\n",
        "\n",
        "Since we already built some formats in past sections of this course, I've included them below for you. Run this code cell before proceeding."
      ]
    },
    {
      "cell_type": "code",
      "metadata": {
        "id": "nwdxRFz0pTbM"
      },
      "source": [
        "\n",
        "\n",
        "background_color = '#0a0a23'\n",
        "font_color = '#ffffff'\n",
        "\n",
        "string_template = writer.book.add_format(\n",
        "        {\n",
        "            'font_color': font_color,\n",
        "            'bg_color': background_color,\n",
        "            'border': 1\n",
        "        }\n",
        "    )\n",
        "\n",
        "dollar_template = writer.book.add_format(\n",
        "        {\n",
        "            'num_format':'$0.00',\n",
        "            'font_color': font_color,\n",
        "            'bg_color': background_color,\n",
        "            'border': 1\n",
        "        }\n",
        "    )\n",
        "\n",
        "integer_template = writer.book.add_format(\n",
        "        {\n",
        "            'num_format':'0',\n",
        "            'font_color': font_color,\n",
        "            'bg_color': background_color,\n",
        "            'border': 1\n",
        "        }\n",
        "    )\n",
        "\n",
        "float_template = writer.book.add_format(\n",
        "        {\n",
        "            'num_format':'0',\n",
        "            'font_color': font_color,\n",
        "            'bg_color': background_color,\n",
        "            'border': 1\n",
        "        }\n",
        "    )\n",
        "\n",
        "percent_template = writer.book.add_format(\n",
        "        {\n",
        "            'num_format':'0.0%',\n",
        "            'font_color': font_color,\n",
        "            'bg_color': background_color,\n",
        "            'border': 1\n",
        "        }\n",
        "    )\n",
        "\n"
      ],
      "execution_count": 158,
      "outputs": []
    },
    {
      "cell_type": "code",
      "metadata": {
        "id": "IwdLw5SVpTbM"
      },
      "source": [
        "column_formats = {\n",
        "                    'A': ['Ticker', string_template],\n",
        "                    'B': ['Price', dollar_template],\n",
        "                    'C': ['Number of Shares to Buy', integer_template],\n",
        "                    'D': ['Price-to-Earnings Ratio', float_template],\n",
        "                    'E': ['PE Percentile', percent_template],\n",
        "                    'F': ['Price-to-Book Ratio', float_template],\n",
        "                    'G': ['PB Percentile',percent_template],\n",
        "                    'H': ['Price-to-Sales Ratio', float_template],\n",
        "                    'I': ['PS Percentile', percent_template],\n",
        "                    'J': ['EV/EBITDA', float_template],\n",
        "                    'K': ['EV/EBITDA Percentile', percent_template],\n",
        "                    'L': ['EV/GP', float_template],\n",
        "                    'M': ['EV/GP Percentile', percent_template],\n",
        "                    'N': ['RV Score', percent_template]\n",
        "                 }\n",
        "\n",
        "for column in column_formats.keys():\n",
        "    writer.sheets['Value Strategy'].set_column(f'{column}:{column}', 25, column_formats[column][1])\n",
        "    writer.sheets['Value Strategy'].write(f'{column}1', column_formats[column][0], column_formats[column][1])"
      ],
      "execution_count": 159,
      "outputs": []
    },
    {
      "cell_type": "markdown",
      "metadata": {
        "id": "BmhY4YA8pTbN"
      },
      "source": [
        "## Saving Our Excel Output\n",
        "As before, saving our Excel output is very easy:"
      ]
    },
    {
      "cell_type": "code",
      "metadata": {
        "id": "dHLVCkc5pTbN"
      },
      "source": [
        "writer.save()"
      ],
      "execution_count": 160,
      "outputs": []
    }
  ]
}